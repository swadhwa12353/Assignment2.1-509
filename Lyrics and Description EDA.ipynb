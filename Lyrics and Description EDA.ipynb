{
 "cells": [
  {
   "cell_type": "markdown",
   "id": "7f79baf9",
   "metadata": {},
   "source": [
    "# ADS 509 Assignment 2.1: Tokenization, Normalization, Descriptive Statistics \n",
    "\n",
    "This notebook holds Assignment 2.1 for Module 2 in ADS 509, Applied Text Mining. Work through this notebook, writing code and answering questions where required. \n",
    "\n",
    "In the previous assignment you put together Twitter data and lyrics data on two artists. In this assignment we explore some of the textual features of those data sets. If, for some reason, you did not complete that previous assignment, data to use for this assignment can be found in the assignment materials section of Blackboard. \n",
    "\n",
    "This assignment asks you to write a short function to calculate some descriptive statistics on a piece of text. Then you are asked to find some interesting and unique statistics on your corpora. \n"
   ]
  },
  {
   "cell_type": "markdown",
   "id": "aae8e2e1",
   "metadata": {},
   "source": [
    "## General Assignment Instructions\n",
    "\n",
    "These instructions are included in every assignment, to remind you of the coding standards for the class. Feel free to delete this cell after reading it. \n",
    "\n",
    "One sign of mature code is conforming to a style guide. We recommend the [Google Python Style Guide](https://google.github.io/styleguide/pyguide.html). If you use a different style guide, please include a cell with a link. \n",
    "\n",
    "Your code should be relatively easy-to-read, sensibly commented, and clean. Writing code is a messy process, so please be sure to edit your final submission. Remove any cells that are not needed or parts of cells that contain unnecessary code. Remove inessential `import` statements and make sure that all such statements are moved into the designated cell. \n",
    "\n",
    "Make use of non-code cells for written commentary. These cells should be grammatical and clearly written. In some of these cells you will have questions to answer. The questions will be marked by a \"Q:\" and will have a corresponding \"A:\" spot for you. *Make sure to answer every question marked with a `Q:` for full credit.* \n"
   ]
  },
  {
   "cell_type": "code",
   "execution_count": 32,
   "id": "e2d096b7",
   "metadata": {},
   "outputs": [],
   "source": [
    "import os\n",
    "import re\n",
    "import emoji\n",
    "import pandas as pd\n",
    "import numpy as np\n",
    "\n",
    "\n",
    "from collections import Counter, defaultdict\n",
    "from nltk.corpus import stopwords\n",
    "from string import punctuation\n",
    "\n",
    "sw = stopwords.words(\"english\")"
   ]
  },
  {
   "cell_type": "code",
   "execution_count": 33,
   "id": "6b555ab2",
   "metadata": {},
   "outputs": [],
   "source": [
    "# Add any additional import statements you need here\n",
    "import matplotlib.pyplot as plt\n"
   ]
  },
  {
   "cell_type": "code",
   "execution_count": 34,
   "id": "923b5a86",
   "metadata": {},
   "outputs": [],
   "source": [
    "# change `data_location` to the location of the folder on your machine.\n",
    "#data_location = \"/users/chandler/dropbox/teaching/repos/ads-tm-api-scrape/\"\n",
    "\n",
    "# These subfolders should still work if you correctly stored the \n",
    "# data from the Module 1 assignment\n",
    "twitter_folder = \"/Users/sahilwadhwa/M1 Results/twitter\"\n",
    "lyrics_folder = \"/Users/sahilwadhwa/M1 Results/lyrics\""
   ]
  },
  {
   "cell_type": "code",
   "execution_count": 35,
   "id": "06522af9",
   "metadata": {},
   "outputs": [],
   "source": [
    "def descriptive_stats(tokens, num_tokens = 5, verbose=True) :\n",
    "    \"\"\"\n",
    "        Given a list of tokens, print number of tokens, number of unique tokens, \n",
    "        number of characters, lexical diversity (https://en.wikipedia.org/wiki/Lexical_diversity), \n",
    "        and num_tokens most common tokens. Return a list with the number of tokens, number\n",
    "        of unique tokens, lexical diversity, and number of characters. \n",
    "    \n",
    "    \"\"\"\n",
    "\n",
    "    # Fill in the correct values here. \n",
    "    num_tokens = len(tokens)\n",
    "    num_unique_tokens = len(set(tokens))\n",
    "    lexical_diversity = len(set(tokens)) / len(tokens)\n",
    "    num_characters = sum([len(i) for i in tokens]) \n",
    "    \n",
    "    if verbose :        \n",
    "        print(f\"There are {num_tokens} tokens in the data.\")\n",
    "        print(f\"There are {num_unique_tokens} unique tokens in the data.\")\n",
    "        print(f\"There are {num_characters} characters in the data.\")\n",
    "        print(f\"The lexical diversity is {lexical_diversity:.3f} in the data.\")\n",
    "    \n",
    "        # print the five most common tokens\n",
    "        token_counts = Counter(tokens).most_common(5)\n",
    "        for token, count in token_counts:\n",
    "            print(f\"{token}: {count}\")\n",
    "        \n",
    "    return([num_tokens, num_unique_tokens,\n",
    "            lexical_diversity,\n",
    "            num_characters])\n",
    "    "
   ]
  },
  {
   "cell_type": "code",
   "execution_count": 36,
   "id": "59dcf058",
   "metadata": {},
   "outputs": [
    {
     "name": "stdout",
     "output_type": "stream",
     "text": [
      "There are 13 tokens in the data.\n",
      "There are 9 unique tokens in the data.\n",
      "There are 55 characters in the data.\n",
      "The lexical diversity is 0.692 in the data.\n",
      "text: 3\n",
      "here: 2\n",
      "example: 2\n",
      "is: 1\n",
      "some: 1\n"
     ]
    }
   ],
   "source": [
    "text = \"\"\"here is some example text with other example text here in this text\"\"\".split()\n",
    "assert(descriptive_stats(text, verbose=True)[0] == 13)\n",
    "assert(descriptive_stats(text, verbose=False)[1] == 9)\n",
    "assert(abs(descriptive_stats(text, verbose=False)[2] - 0.69) < 0.02)\n",
    "assert(descriptive_stats(text, verbose=False)[3] == 55)\n"
   ]
  },
  {
   "cell_type": "markdown",
   "id": "d2e7e1a2",
   "metadata": {},
   "source": [
    "Q: Why is it beneficial to use assertion statements in your code? \n",
    "\n",
    "A: It is beneficial to use assertion statements in your code because it helps debug your code early as well as helps to make your code more reliable."
   ]
  },
  {
   "cell_type": "markdown",
   "id": "9d3bf93e",
   "metadata": {},
   "source": [
    "## Data Input\n",
    "\n",
    "Now read in each of the corpora. For the lyrics data, it may be convenient to store the entire contents of the file to make it easier to inspect the titles individually, as you'll do in the last part of the assignment. In the solution, I stored the lyrics data in a dictionary with two dimensions of keys: artist and song. The value was the file contents. A data frame would work equally well. \n",
    "\n",
    "For the Twitter data, we only need the description field for this assignment. Feel free all the descriptions read it into a data structure. In the solution, I stored the descriptions as a dictionary of lists, with the key being the artist. \n",
    "\n",
    "\n"
   ]
  },
  {
   "cell_type": "code",
   "execution_count": 43,
   "id": "37d70801",
   "metadata": {},
   "outputs": [],
   "source": [
    "# Read in the lyrics data\n",
    "lyrics_data = {}\n",
    "\n",
    "for artist in os.listdir(lyrics_folder):\n",
    "    join = os.path.join(lyrics_folder, artist)\n",
    "    \n",
    "    if os.path.isdir(join):\n",
    "        lyrics_data[artist] = {}  \n",
    "        for file in os.listdir(join):\n",
    "            path = os.path.join(join, file)\n",
    "            if os.path.isfile(path):\n",
    "                with open(path, 'r', encoding='utf-8') as file:\n",
    "                    read = file.read()\n",
    "                    title = os.path.splitext(join)[0]  \n",
    "                    lyrics_data[artist][title] = read"
   ]
  },
  {
   "cell_type": "code",
   "execution_count": 44,
   "id": "debcac5a",
   "metadata": {},
   "outputs": [],
   "source": [
    "# Read in the twitter data\n",
    "\n",
    "twitter_data = {}\n",
    "for artist_file in os.listdir(twitter_folder):\n",
    "    join = os.path.join(twitter_folder, artist_file)\n",
    "\n",
    "    if os.path.isfile(join) and artist_file.endswith(\"_followers_data.txt\"):\n",
    "        artist = artist_file.replace(\"_followers_data.txt\", \"\")\n",
    "        twitter_data[artist] = []\n",
    "\n",
    "        with open(join, 'r', encoding='utf-8') as f:\n",
    "            for line in f:\n",
    "                text = line.strip()\n",
    "                twitter_data[artist].append(text)"
   ]
  },
  {
   "cell_type": "markdown",
   "id": "6a5f3b12",
   "metadata": {},
   "source": [
    "## Data Cleaning\n",
    "\n",
    "Now clean and tokenize your data. Remove punctuation chacters (available in the `punctuation` object in the `string` library), split on whitespace, fold to lowercase, and remove stopwords. Store your cleaned data, which must be accessible as an interable for `descriptive_stats`, in new objects or in new columns in your data frame. \n",
    "\n"
   ]
  },
  {
   "cell_type": "code",
   "execution_count": 45,
   "id": "71c73d86",
   "metadata": {},
   "outputs": [],
   "source": [
    "punctuation = set(punctuation) # speeds up comparison\n",
    "\n",
    "punctuation = set(punctuation)\n",
    "stop_words = set(stopwords.words(\"english\"))\n",
    "\n",
    "def clean(text):\n",
    "    return [word.lower() for word in text.split()\n",
    "            if word.lower() not in stop_words and all(char not in punctuation for char in word)]"
   ]
  },
  {
   "cell_type": "code",
   "execution_count": 46,
   "id": "b327033a",
   "metadata": {},
   "outputs": [],
   "source": [
    "# create your clean twitter data here\n",
    "clean_twitter_data = {artist: [token for l in lines for token in clean(l)]\n",
    "                      for artist, lines in twitter_data.items()}"
   ]
  },
  {
   "cell_type": "code",
   "execution_count": 47,
   "id": "e0f22e10",
   "metadata": {},
   "outputs": [],
   "source": [
    "# create your clean lyrics data here\n",
    "clean_lyrics_data = {artist: [token for s in songs.values() for token in clean(s)]\n",
    "                     for artist, songs in lyrics_data.items()}"
   ]
  },
  {
   "cell_type": "markdown",
   "id": "f2dd0179",
   "metadata": {},
   "source": [
    "## Basic Descriptive Statistics\n",
    "\n",
    "Call your `descriptive_stats` function on both your lyrics data and your twitter data and for both artists (four total calls). "
   ]
  },
  {
   "cell_type": "code",
   "execution_count": 48,
   "id": "f0bbedd9",
   "metadata": {},
   "outputs": [
    {
     "name": "stdout",
     "output_type": "stream",
     "text": [
      "Descriptive Stats for Cher Lyrics:\n",
      "There are 62 tokens in the data.\n",
      "There are 42 unique tokens in the data.\n",
      "There are 264 characters in the data.\n",
      "The lexical diversity is 0.677 in the data.\n",
      "love: 6\n",
      "time: 6\n",
      "one: 4\n",
      "wish: 3\n",
      "know: 2\n",
      "\n",
      "Descriptive Stats for Robyn Lyrics:\n",
      "There are 54 tokens in the data.\n",
      "There are 35 unique tokens in the data.\n",
      "There are 256 characters in the data.\n",
      "The lexical diversity is 0.648 in the data.\n",
      "people: 6\n",
      "never: 5\n",
      "say: 5\n",
      "lives: 2\n",
      "scared: 2\n",
      "\n",
      "Descriptive Stats for Cher Twitter:\n",
      "There are 35713135 tokens in the data.\n",
      "There are 9128198 unique tokens in the data.\n",
      "There are 215899114 characters in the data.\n",
      "The lexical diversity is 0.256 in the data.\n",
      "0: 332354\n",
      "1: 279778\n",
      "2: 234441\n",
      "love: 205713\n",
      "3: 190345\n",
      "\n",
      "Descriptive Stats for Robyn Twitter:\n",
      "There are 3254733 tokens in the data.\n",
      "There are 956855 unique tokens in the data.\n",
      "There are 19218057 characters in the data.\n",
      "The lexical diversity is 0.294 in the data.\n",
      "0: 31626\n",
      "1: 23729\n",
      "2: 17483\n",
      "3: 13938\n",
      "sweden: 11589\n"
     ]
    },
    {
     "data": {
      "text/plain": [
       "[3254733, 956855, 0.29398878494795117, 19218057]"
      ]
     },
     "execution_count": 48,
     "metadata": {},
     "output_type": "execute_result"
    }
   ],
   "source": [
    "#Stats for Lyrics\n",
    "print(\"Descriptive Stats for Cher Lyrics:\")\n",
    "descriptive_stats(clean_lyrics_data['cher'])\n",
    "\n",
    "print(\"\\nDescriptive Stats for Robyn Lyrics:\")\n",
    "descriptive_stats(clean_lyrics_data['robyn'])\n",
    "\n",
    "#Stats for Twitter\n",
    "print(\"\\nDescriptive Stats for Cher Twitter:\")\n",
    "descriptive_stats(clean_twitter_data['cher'])\n",
    "\n",
    "print(\"\\nDescriptive Stats for Robyn Twitter:\")\n",
    "descriptive_stats(clean_twitter_data['robynkonichiwa'])"
   ]
  },
  {
   "cell_type": "markdown",
   "id": "46294409",
   "metadata": {},
   "source": [
    "Q: How do you think the \"top 5 words\" would be different if we left stopwords in the data? \n",
    "\n",
    "A: The top 5 words would be different if we left the stopwords as the top 5 words would be a lot of basic words like \"the\" and \"and\"\n",
    "\n",
    "---\n",
    "\n",
    "Q: What were your prior beliefs about the lexical diversity between the artists? Does the difference (or lack thereof) in lexical diversity between the artists conform to your prior beliefs? \n",
    "\n",
    "A: I didn't know these artists beforehand so I guessed that the lexical diversity between the artists would be pretty equal. Robyn has a higher lexical diversity in both the lyrics and Twitter data so it doesn't conform to my prior beliefs"
   ]
  },
  {
   "cell_type": "markdown",
   "id": "4d4e1ac1",
   "metadata": {},
   "source": [
    "\n",
    "## Specialty Statistics\n",
    "\n",
    "The descriptive statistics we have calculated are quite generic. You will now calculate a handful of statistics tailored to these data.\n",
    "\n",
    "1. Ten most common emojis by artist in the twitter descriptions.\n",
    "1. Ten most common hashtags by artist in the twitter descriptions.\n",
    "1. Five most common words in song titles by artist. \n",
    "1. For each artist, a histogram of song lengths (in terms of number of tokens) \n",
    "\n",
    "We can use the `emoji` library to help us identify emojis and you have been given a function to help you.\n"
   ]
  },
  {
   "cell_type": "code",
   "execution_count": 49,
   "id": "753a5a3e",
   "metadata": {},
   "outputs": [],
   "source": [
    "assert(emoji.is_emoji(\"❤️\"))\n",
    "assert(not emoji.is_emoji(\":-)\"))"
   ]
  },
  {
   "cell_type": "markdown",
   "id": "986fc4c0",
   "metadata": {},
   "source": [
    "### Emojis 😁\n",
    "\n",
    "What are the ten most common emojis by artist in the twitter descriptions? \n"
   ]
  },
  {
   "cell_type": "code",
   "execution_count": 50,
   "id": "269cd433",
   "metadata": {},
   "outputs": [
    {
     "name": "stdout",
     "output_type": "stream",
     "text": [
      "\n",
      "Top 10 most common emojis by cher:\n",
      "❤: 94506\n",
      "🌈: 66291\n",
      "♥: 48059\n",
      "🏳: 47174\n",
      "✨: 45846\n",
      "🌊: 31234\n",
      "💙: 31050\n",
      "🏻: 25195\n",
      "✌: 21963\n",
      "💜: 21571\n",
      "\n",
      "Top 10 most common emojis by robynkonichiwa:\n",
      "🌈: 6086\n",
      "❤: 5635\n",
      "🏳: 4641\n",
      "♥: 4249\n",
      "✨: 3217\n",
      "🏻: 1751\n",
      "✌: 1495\n",
      "♀: 1347\n",
      "🏼: 1340\n",
      "💙: 1200\n"
     ]
    }
   ],
   "source": [
    "# Your code here\n",
    "emoji_top_10 = {}\n",
    "\n",
    "for artist, descriptions in twitter_data.items():\n",
    "    emojis = [char for d in descriptions for char in d if emoji.is_emoji(char)]\n",
    "    emoji_top_10[artist] = Counter(emojis).most_common(10)\n",
    "\n",
    "for artist, emoj in emoji_top_10.items():\n",
    "    print(f\"\\nTop 10 most common emojis by {artist}:\")\n",
    "    for e, count in emoj:\n",
    "        print(f\"{e}: {count}\")"
   ]
  },
  {
   "cell_type": "markdown",
   "id": "bab9b770",
   "metadata": {},
   "source": [
    "### Hashtags\n",
    "\n",
    "What are the ten most common hashtags by artist in the twitter descriptions? \n"
   ]
  },
  {
   "cell_type": "code",
   "execution_count": 51,
   "id": "07c396f1",
   "metadata": {},
   "outputs": [
    {
     "name": "stdout",
     "output_type": "stream",
     "text": [
      "\n",
      "Top 10 most common hashtags by cher:\n",
      "#BLM: 10100\n",
      "#Resist: 6161\n",
      "#BlackLivesMatter: 4888\n",
      "#resist: 3860\n",
      "#FBR: 3330\n",
      "#1: 3111\n",
      "#TheResistance: 3044\n",
      "#blacklivesmatter: 2738\n",
      "#Resistance: 1953\n",
      "#RESIST: 1878\n",
      "\n",
      "Top 10 most common hashtags by robynkonichiwa:\n",
      "#BlackLivesMatter: 356\n",
      "#BLM: 345\n",
      "#1: 228\n",
      "#blacklivesmatter: 222\n",
      "#music: 175\n",
      "#Music: 114\n",
      "#EDM: 87\n",
      "#LGBTQ: 76\n",
      "#blm: 60\n",
      "#TeamFollowBack: 59\n"
     ]
    }
   ],
   "source": [
    "# Your code here\n",
    "hashtag_top_10 = {}\n",
    "\n",
    "for artist, descriptions in twitter_data.items():\n",
    "    hashtags = re.findall(r\"#\\w+\", \" \".join(descriptions))\n",
    "    hashtag_top_10[artist] = Counter(hashtags).most_common(10)\n",
    "\n",
    "for artist, hashes in hashtag_top_10.items():\n",
    "    print(f\"\\nTop 10 most common hashtags by {artist}:\")\n",
    "    for h, count in hashes:\n",
    "        print(f\"{h}: {count}\")"
   ]
  },
  {
   "cell_type": "markdown",
   "id": "d10f21d5",
   "metadata": {},
   "source": [
    "### Song Titles\n",
    "\n",
    "What are the five most common words in song titles by artist? The song titles should be on the first line of the lyrics pages, so if you have kept the raw file contents around, you will not need to re-read the data.\n"
   ]
  },
  {
   "cell_type": "code",
   "execution_count": 52,
   "id": "bb69b36b",
   "metadata": {},
   "outputs": [
    {
     "name": "stdout",
     "output_type": "stream",
     "text": [
      "\n",
      "Top 5 most common words in song titles by robyn:\n",
      "\"play\": 1\n",
      "\n",
      "Top 5 most common words in song titles by cher:\n",
      "\"classified: 1\n",
      "1a\": 1\n"
     ]
    }
   ],
   "source": [
    "# Your code here\n",
    "most_common_words = {}\n",
    "\n",
    "for artist, songs in lyrics_data.items():\n",
    "    words = []\n",
    "    for song in songs.values():\n",
    "        first = song.strip().split(\"\\n\")[0]\n",
    "        words.extend([w.lower() for w in first.split() if w.lower() not in stop_words and w not in punctuation])\n",
    "    most_common_words[artist] = Counter(words).most_common(5)\n",
    "\n",
    "for artist, words in most_common_words.items():\n",
    "    print(f\"\\nTop 5 most common words in song titles by {artist}:\")\n",
    "    for w, count in words:\n",
    "        print(f\"{w}: {count}\")"
   ]
  },
  {
   "cell_type": "markdown",
   "id": "5dd4fd71",
   "metadata": {},
   "source": [
    "### Song Lengths\n",
    "\n",
    "For each artist, a histogram of song lengths (in terms of number of tokens). If you put the song lengths in a data frame with an artist column, matplotlib will make the plotting quite easy. An example is given to help you out. \n"
   ]
  },
  {
   "cell_type": "code",
   "execution_count": 53,
   "id": "805a1e52",
   "metadata": {},
   "outputs": [
    {
     "data": {
      "text/plain": [
       "artist\n",
       "Artist 1    Axes(0.125,0.11;0.775x0.77)\n",
       "Artist 2    Axes(0.125,0.11;0.775x0.77)\n",
       "Name: length, dtype: object"
      ]
     },
     "execution_count": 53,
     "metadata": {},
     "output_type": "execute_result"
    },
    {
     "data": {
      "image/png": "[encoded data removed]",
      "text/plain": [
       "<Figure size 640x480 with 1 Axes>"
      ]
     },
     "metadata": {},
     "output_type": "display_data"
    }
   ],
   "source": [
    "num_replicates = 1000\n",
    "\n",
    "df = pd.DataFrame({\n",
    "    \"artist\" : ['Artist 1'] * num_replicates + ['Artist 2']*num_replicates,\n",
    "    \"length\" : np.concatenate((np.random.poisson(125,num_replicates),np.random.poisson(150,num_replicates)))\n",
    "})\n",
    "\n",
    "df.groupby('artist')['length'].plot(kind=\"hist\",density=True,alpha=0.5,legend=True)"
   ]
  },
  {
   "cell_type": "markdown",
   "id": "8fde9ebb",
   "metadata": {},
   "source": [
    "Since the lyrics may be stored with carriage returns or tabs, it may be useful to have a function that can collapse whitespace, using regular expressions, and be used for splitting. \n",
    "\n",
    "Q: What does the regular expression `'\\s+'` match on? \n",
    "\n",
    "A: The regular expression `'\\s+'` matches any sequence of whitespace characters\n"
   ]
  },
  {
   "cell_type": "code",
   "execution_count": 54,
   "id": "f0e34516",
   "metadata": {},
   "outputs": [],
   "source": [
    "collapse_whitespace = re.compile(r'\\s+')\n",
    "\n",
    "def tokenize_lyrics(lyric) : \n",
    "    \"\"\"strip and split on whitespace\"\"\"\n",
    "    return([item.lower() for item in collapse_whitespace.split(lyric)])"
   ]
  },
  {
   "cell_type": "code",
   "execution_count": 55,
   "id": "2294c440",
   "metadata": {},
   "outputs": [
    {
     "data": {
      "image/png": "[encoded data removed]",
      "text/plain": [
       "<Figure size 640x480 with 1 Axes>"
      ]
     },
     "metadata": {},
     "output_type": "display_data"
    },
    {
     "data": {
      "image/png": "[encoded data removed]",
      "text/plain": [
       "<Figure size 640x480 with 1 Axes>"
      ]
     },
     "metadata": {},
     "output_type": "display_data"
    }
   ],
   "source": [
    "# Your lyric length comparison chart here. \n",
    "lyric_lengths = {}\n",
    "\n",
    "for artist, songs in lyrics_data.items():\n",
    "    lyric_lengths[artist] = []\n",
    "    for song_item, song_val in songs.items():\n",
    "        token = tokenize_lyrics(song_val)\n",
    "        lyric_lengths[artist].append(len(token))\n",
    "\n",
    "for artist, lengths in lyric_lengths.items():\n",
    "    plt.hist(lengths,  label = artist)\n",
    "    plt.title(f\"Distribution for {artist}\")\n",
    "    plt.xlabel(\"Number of Tokens (Lyric Length)\")\n",
    "    plt.ylabel(\"Frequency\")\n",
    "    plt.legend()\n",
    "    plt.show()"
   ]
  }
 ],
 "metadata": {
  "kernelspec": {
   "display_name": "Python 3 (ipykernel)",
   "language": "python",
   "name": "python3"
  },
  "language_info": {
   "codemirror_mode": {
    "name": "ipython",
    "version": 3
   },
   "file_extension": ".py",
   "mimetype": "text/x-python",
   "name": "python",
   "nbconvert_exporter": "python",
   "pygments_lexer": "ipython3",
   "version": "3.11.5"
  }
 },
 "nbformat": 4,
 "nbformat_minor": 5
}
